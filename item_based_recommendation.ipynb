{
  "nbformat": 4,
  "nbformat_minor": 0,
  "metadata": {
    "colab": {
      "provenance": []
    },
    "kernelspec": {
      "name": "python3",
      "display_name": "Python 3"
    },
    "language_info": {
      "name": "python"
    }
  },
  "cells": [
    {
      "cell_type": "code",
      "source": [
        "from sklearn.metrics import accuracy_score, classification_report\n",
        "from sklearn.linear_model import LogisticRegression\n",
        "from sklearn.tree import DecisionTreeClassifier\n",
        "from sklearn.neighbors import KNeighborsClassifier\n",
        "from sklearn.discriminant_analysis import LinearDiscriminantAnalysis\n",
        "from sklearn.naive_bayes import GaussianNB\n",
        "from sklearn.ensemble import RandomForestClassifier\n",
        "from sklearn.model_selection import train_test_split\n",
        "from sklearn.linear_model import LogisticRegression\n",
        "from sklearn.naive_bayes import MultinomialNB\n",
        "from sklearn.metrics import classification_report, f1_score, accuracy_score, confusion_matrix\n",
        "from sklearn.metrics import roc_curve, auc, roc_auc_score,precision_recall_curve\n",
        "from sklearn import metrics\n",
        "import numpy as np\n",
        "import matplotlib.pyplot as plt\n",
        "import seaborn as sns\n",
        "import pandas as pd\n",
        "from sklearn.feature_extraction.text import TfidfVectorizer\n",
        "from sklearn.model_selection import train_test_split\n",
        "from sklearn.feature_extraction.text import TfidfVectorizer\n",
        "from sklearn.feature_extraction.text import CountVectorizer\n",
        "from sklearn.model_selection import GridSearchCV\n",
        "from sklearn.model_selection import RandomizedSearchCV\n",
        "from sklearn.ensemble import RandomForestClassifier\n",
        "\n"
      ],
      "metadata": {
        "id": "oYAAMCNMKOc8"
      },
      "execution_count": null,
      "outputs": []
    },
    {
      "cell_type": "code",
      "source": [
        "df=pd.read_csv('/content/sample30.csv')"
      ],
      "metadata": {
        "id": "-jaR106CCeIw"
      },
      "execution_count": null,
      "outputs": []
    },
    {
      "cell_type": "code",
      "source": [
        "df1=df[['reviews_text','user_sentiment']]"
      ],
      "metadata": {
        "id": "EcBHOBcaDN2z"
      },
      "execution_count": null,
      "outputs": []
    },
    {
      "cell_type": "code",
      "source": [
        "df1=df1.dropna()"
      ],
      "metadata": {
        "id": "xOs8JvnPDaSA"
      },
      "execution_count": null,
      "outputs": []
    },
    {
      "cell_type": "code",
      "source": [
        "import nltk\n",
        "import re\n",
        "import string\n",
        "from nltk.corpus import stopwords\n",
        "from nltk.stem.porter import PorterStemmer\n",
        "from nltk.stem import WordNetLemmatizer\n",
        "\n",
        "# https://www.nltk.org/nltk_data/ from this link stopwords and wordnet is downloading  # noqa\n",
        "nltk.download('wordnet')\n",
        "nltk.download('stopwords')\n",
        "\n",
        "\n",
        "def pre_process(row):\n",
        "    # split into tokens by white space\n",
        "    tokens = row.split()\n",
        "    # prepare regex for char filtering\n",
        "    re_punc = re.compile('[%s]' % re.escape(string.punctuation))\n",
        "    # remove punctuation from each word\n",
        "    tokens = [re_punc.sub('', w) for w in tokens]\n",
        "    # remove remaining tokens that are not alphabetic\n",
        "    tokens = [word for word in tokens if word.isalpha()]\n",
        "    # filter out stop words\n",
        "    stop_words = set(stopwords.words('english'))\n",
        "    tokens = [word for word in tokens if word not in stop_words]\n",
        "    # stemming of words\n",
        "    porter = PorterStemmer()\n",
        "    stemmed = [porter.stem(word) for word in tokens]\n",
        "    # lematizing of words\n",
        "    lema = WordNetLemmatizer()\n",
        "    lemmed = [lema.lemmatize(word) for word in stemmed]\n",
        "    # filter out short tokens\n",
        "    final = [word for word in lemmed if len(word) > 2]\n",
        "    final = [word.lower() for word in final]\n",
        "    return ' '.join(final)"
      ],
      "metadata": {
        "id": "1Faud9H3Dupt",
        "colab": {
          "base_uri": "https://localhost:8080/"
        },
        "outputId": "e1318dd8-6e09-4053-e5df-0301d51407f5"
      },
      "execution_count": null,
      "outputs": [
        {
          "output_type": "stream",
          "name": "stdout",
          "text": [
            "[nltk_data] Downloading package wordnet to /root/nltk_data...\n",
            "[nltk_data]   Package wordnet is already up-to-date!\n",
            "[nltk_data] Downloading package stopwords to /root/nltk_data...\n",
            "[nltk_data]   Package stopwords is already up-to-date!\n"
          ]
        }
      ]
    },
    {
      "cell_type": "code",
      "source": [
        "df1['clean_text'] = df1['reviews_text'].apply(lambda x: pre_process(x))"
      ],
      "metadata": {
        "id": "WiIv7alhGOVM"
      },
      "execution_count": null,
      "outputs": []
    },
    {
      "cell_type": "code",
      "source": [
        "df1['reviews_text'][0]"
      ],
      "metadata": {
        "colab": {
          "base_uri": "https://localhost:8080/",
          "height": 53
        },
        "id": "ptA3qnJjG4fv",
        "outputId": "28482a2d-46a5-410e-cec0-f76a0cb008dc"
      },
      "execution_count": null,
      "outputs": [
        {
          "output_type": "execute_result",
          "data": {
            "text/plain": [
              "\"i love this album. it's very good. more to the hip hop side than her current pop sound.. SO HYPE! i listen to this everyday at the gym! i give it 5star rating all the way. her metaphors are just crazy.\""
            ],
            "application/vnd.google.colaboratory.intrinsic+json": {
              "type": "string"
            }
          },
          "metadata": {},
          "execution_count": 7
        }
      ]
    },
    {
      "cell_type": "code",
      "source": [
        "df1['clean_text'][0]"
      ],
      "metadata": {
        "colab": {
          "base_uri": "https://localhost:8080/",
          "height": 35
        },
        "id": "psd8qg2bHCov",
        "outputId": "1c96a3d4-7e5c-4761-f190-c147e93af1be"
      },
      "execution_count": null,
      "outputs": [
        {
          "output_type": "execute_result",
          "data": {
            "text/plain": [
              "'love album good hip hop side current pop sound hype listen everyday gym give rate way metaphor crazi'"
            ],
            "application/vnd.google.colaboratory.intrinsic+json": {
              "type": "string"
            }
          },
          "metadata": {},
          "execution_count": 8
        }
      ]
    },
    {
      "cell_type": "code",
      "source": [
        "from sklearn.preprocessing import LabelEncoder\n",
        "\n",
        "le = LabelEncoder()\n",
        "le.fit(df1['user_sentiment'])\n",
        "\n",
        "df1['user_sentiment'] = le.transform(df1['user_sentiment'])\n",
        "df1.head()"
      ],
      "metadata": {
        "colab": {
          "base_uri": "https://localhost:8080/",
          "height": 206
        },
        "id": "mcUCCn3OIzHd",
        "outputId": "afb6f810-acee-4e5a-de34-b95a395506d4"
      },
      "execution_count": null,
      "outputs": [
        {
          "output_type": "execute_result",
          "data": {
            "text/plain": [
              "                                        reviews_text  user_sentiment  \\\n",
              "0  i love this album. it's very good. more to the...               1   \n",
              "1  Good flavor. This review was collected as part...               1   \n",
              "2                                       Good flavor.               1   \n",
              "3  I read through the reviews on here before look...               0   \n",
              "4  My husband bought this gel for us. The gel cau...               0   \n",
              "\n",
              "                                          clean_text  \n",
              "0  love album good hip hop side current pop sound...  \n",
              "1         good flavor thi review collect part promot  \n",
              "2                                        good flavor  \n",
              "3  read review look buy one coupl lubric ultim di...  \n",
              "4  husband bought gel the gel caus irrit felt lik...  "
            ],
            "text/html": [
              "\n",
              "  <div id=\"df-cb54d490-f953-4844-9a50-5b1fabe4e645\">\n",
              "    <div class=\"colab-df-container\">\n",
              "      <div>\n",
              "<style scoped>\n",
              "    .dataframe tbody tr th:only-of-type {\n",
              "        vertical-align: middle;\n",
              "    }\n",
              "\n",
              "    .dataframe tbody tr th {\n",
              "        vertical-align: top;\n",
              "    }\n",
              "\n",
              "    .dataframe thead th {\n",
              "        text-align: right;\n",
              "    }\n",
              "</style>\n",
              "<table border=\"1\" class=\"dataframe\">\n",
              "  <thead>\n",
              "    <tr style=\"text-align: right;\">\n",
              "      <th></th>\n",
              "      <th>reviews_text</th>\n",
              "      <th>user_sentiment</th>\n",
              "      <th>clean_text</th>\n",
              "    </tr>\n",
              "  </thead>\n",
              "  <tbody>\n",
              "    <tr>\n",
              "      <th>0</th>\n",
              "      <td>i love this album. it's very good. more to the...</td>\n",
              "      <td>1</td>\n",
              "      <td>love album good hip hop side current pop sound...</td>\n",
              "    </tr>\n",
              "    <tr>\n",
              "      <th>1</th>\n",
              "      <td>Good flavor. This review was collected as part...</td>\n",
              "      <td>1</td>\n",
              "      <td>good flavor thi review collect part promot</td>\n",
              "    </tr>\n",
              "    <tr>\n",
              "      <th>2</th>\n",
              "      <td>Good flavor.</td>\n",
              "      <td>1</td>\n",
              "      <td>good flavor</td>\n",
              "    </tr>\n",
              "    <tr>\n",
              "      <th>3</th>\n",
              "      <td>I read through the reviews on here before look...</td>\n",
              "      <td>0</td>\n",
              "      <td>read review look buy one coupl lubric ultim di...</td>\n",
              "    </tr>\n",
              "    <tr>\n",
              "      <th>4</th>\n",
              "      <td>My husband bought this gel for us. The gel cau...</td>\n",
              "      <td>0</td>\n",
              "      <td>husband bought gel the gel caus irrit felt lik...</td>\n",
              "    </tr>\n",
              "  </tbody>\n",
              "</table>\n",
              "</div>\n",
              "      <button class=\"colab-df-convert\" onclick=\"convertToInteractive('df-cb54d490-f953-4844-9a50-5b1fabe4e645')\"\n",
              "              title=\"Convert this dataframe to an interactive table.\"\n",
              "              style=\"display:none;\">\n",
              "        \n",
              "  <svg xmlns=\"http://www.w3.org/2000/svg\" height=\"24px\"viewBox=\"0 0 24 24\"\n",
              "       width=\"24px\">\n",
              "    <path d=\"M0 0h24v24H0V0z\" fill=\"none\"/>\n",
              "    <path d=\"M18.56 5.44l.94 2.06.94-2.06 2.06-.94-2.06-.94-.94-2.06-.94 2.06-2.06.94zm-11 1L8.5 8.5l.94-2.06 2.06-.94-2.06-.94L8.5 2.5l-.94 2.06-2.06.94zm10 10l.94 2.06.94-2.06 2.06-.94-2.06-.94-.94-2.06-.94 2.06-2.06.94z\"/><path d=\"M17.41 7.96l-1.37-1.37c-.4-.4-.92-.59-1.43-.59-.52 0-1.04.2-1.43.59L10.3 9.45l-7.72 7.72c-.78.78-.78 2.05 0 2.83L4 21.41c.39.39.9.59 1.41.59.51 0 1.02-.2 1.41-.59l7.78-7.78 2.81-2.81c.8-.78.8-2.07 0-2.86zM5.41 20L4 18.59l7.72-7.72 1.47 1.35L5.41 20z\"/>\n",
              "  </svg>\n",
              "      </button>\n",
              "      \n",
              "  <style>\n",
              "    .colab-df-container {\n",
              "      display:flex;\n",
              "      flex-wrap:wrap;\n",
              "      gap: 12px;\n",
              "    }\n",
              "\n",
              "    .colab-df-convert {\n",
              "      background-color: #E8F0FE;\n",
              "      border: none;\n",
              "      border-radius: 50%;\n",
              "      cursor: pointer;\n",
              "      display: none;\n",
              "      fill: #1967D2;\n",
              "      height: 32px;\n",
              "      padding: 0 0 0 0;\n",
              "      width: 32px;\n",
              "    }\n",
              "\n",
              "    .colab-df-convert:hover {\n",
              "      background-color: #E2EBFA;\n",
              "      box-shadow: 0px 1px 2px rgba(60, 64, 67, 0.3), 0px 1px 3px 1px rgba(60, 64, 67, 0.15);\n",
              "      fill: #174EA6;\n",
              "    }\n",
              "\n",
              "    [theme=dark] .colab-df-convert {\n",
              "      background-color: #3B4455;\n",
              "      fill: #D2E3FC;\n",
              "    }\n",
              "\n",
              "    [theme=dark] .colab-df-convert:hover {\n",
              "      background-color: #434B5C;\n",
              "      box-shadow: 0px 1px 3px 1px rgba(0, 0, 0, 0.15);\n",
              "      filter: drop-shadow(0px 1px 2px rgba(0, 0, 0, 0.3));\n",
              "      fill: #FFFFFF;\n",
              "    }\n",
              "  </style>\n",
              "\n",
              "      <script>\n",
              "        const buttonEl =\n",
              "          document.querySelector('#df-cb54d490-f953-4844-9a50-5b1fabe4e645 button.colab-df-convert');\n",
              "        buttonEl.style.display =\n",
              "          google.colab.kernel.accessAllowed ? 'block' : 'none';\n",
              "\n",
              "        async function convertToInteractive(key) {\n",
              "          const element = document.querySelector('#df-cb54d490-f953-4844-9a50-5b1fabe4e645');\n",
              "          const dataTable =\n",
              "            await google.colab.kernel.invokeFunction('convertToInteractive',\n",
              "                                                     [key], {});\n",
              "          if (!dataTable) return;\n",
              "\n",
              "          const docLinkHtml = 'Like what you see? Visit the ' +\n",
              "            '<a target=\"_blank\" href=https://colab.research.google.com/notebooks/data_table.ipynb>data table notebook</a>'\n",
              "            + ' to learn more about interactive tables.';\n",
              "          element.innerHTML = '';\n",
              "          dataTable['output_type'] = 'display_data';\n",
              "          await google.colab.output.renderOutput(dataTable, element);\n",
              "          const docLink = document.createElement('div');\n",
              "          docLink.innerHTML = docLinkHtml;\n",
              "          element.appendChild(docLink);\n",
              "        }\n",
              "      </script>\n",
              "    </div>\n",
              "  </div>\n",
              "  "
            ]
          },
          "metadata": {},
          "execution_count": 9
        }
      ]
    },
    {
      "cell_type": "code",
      "source": [
        "data=df1[['clean_text','user_sentiment']]"
      ],
      "metadata": {
        "id": "Q0bDBOjiJM5v"
      },
      "execution_count": null,
      "outputs": []
    },
    {
      "cell_type": "code",
      "source": [
        "x = data['clean_text']\n",
        "y = data['user_sentiment']\n",
        "X_train, X_test, y_train, y_test = train_test_split(x,y,test_size=0.3,shuffle=True,random_state=42)"
      ],
      "metadata": {
        "id": "kgbo3QUfJXAv"
      },
      "execution_count": null,
      "outputs": []
    },
    {
      "cell_type": "code",
      "source": [
        "#function for countvectrizer\n",
        "def count_vectorizer(X_train, y_train, X_test, y_test):\n",
        "   \n",
        "    #creating the vectors\n",
        "    count_vectorizer = CountVectorizer()\n",
        "    X_train_vectors_count_vectorizer = count_vectorizer.fit_transform(X_train) \n",
        "    X_test_vectors_count_vectorizer = count_vectorizer.transform(X_test)\n",
        "\n",
        "\n",
        "    #FITTING THE CLASSIFICATION MODEL using MultinomialNB(count_vectorizer)\n",
        "    mnb_countv = RandomForestClassifier()\n",
        "    mnb_countv.fit(X_train_vectors_count_vectorizer, y_train)  \n",
        "\n",
        "    #Predict y value for test dataset\n",
        "    y_predict = mnb_countv.predict(X_test_vectors_count_vectorizer)\n",
        "    y_prob = mnb_countv.predict_proba(X_train_vectors_count_vectorizer)[:,1]\n",
        "    print(classification_report(y_test,y_predict))\n",
        "   \n",
        "    print('accuracy:',accuracy_score(y_test,y_predict))"
      ],
      "metadata": {
        "id": "Ksty4s0gJpzs"
      },
      "execution_count": null,
      "outputs": []
    },
    {
      "cell_type": "code",
      "source": [
        "count_vectorizer(X_train, y_train, X_test, y_test)"
      ],
      "metadata": {
        "colab": {
          "base_uri": "https://localhost:8080/"
        },
        "id": "bgT2Q3jgJ6yC",
        "outputId": "2a72244b-fb30-47d6-a250-c13c4bbd5e9a"
      },
      "execution_count": null,
      "outputs": [
        {
          "output_type": "stream",
          "name": "stdout",
          "text": [
            "              precision    recall  f1-score   support\n",
            "\n",
            "           0       0.85      0.35      0.49       967\n",
            "           1       0.93      0.99      0.96      8033\n",
            "\n",
            "    accuracy                           0.92      9000\n",
            "   macro avg       0.89      0.67      0.73      9000\n",
            "weighted avg       0.92      0.92      0.91      9000\n",
            "\n",
            "accuracy: 0.9234444444444444\n"
          ]
        }
      ]
    },
    {
      "cell_type": "code",
      "source": [
        "#function for tf-id vectorizer\n",
        "def tfidf_vectorizer(X_train, y_train, X_test, y_test):\n",
        "   \n",
        "    #creating the vectors\n",
        "    tfidf_vectorizer = TfidfVectorizer(use_idf=True,max_df=0.5)\n",
        "    X_train_vectors_tfidf = tfidf_vectorizer.fit_transform(X_train) \n",
        "    X_test_vectors_tfidf = tfidf_vectorizer.transform(X_test)\n",
        "\n",
        "\n",
        "    #FITTING THE CLASSIFICATION MODEL using MultinomialNB(tf-idf)\n",
        "    mnb_tfidf = RandomForestClassifier()\n",
        "    mnb_tfidf.fit(X_train_vectors_tfidf, y_train)  \n",
        "\n",
        "    #Predict y value for test dataset\n",
        "    predicted = mnb_tfidf.predict(X_test_vectors_tfidf)\n",
        "    predicted_prob = mnb_tfidf.predict_proba(X_test_vectors_tfidf)[:,1]\n",
        "    #Predictprint(classification_report(y_test,y_predict))\n",
        "    #print('Confusion Matrix:',confusion_matrix(y_test, y_predict))\n",
        "\n",
        "    #fpr, tpr, thresholds = roc_curve(y_test, y_prob)\n",
        "    #roc_auc = auc(fpr, tpr)\n",
        "    #print('AUC:', roc_auc)\n",
        "    #print('accuracy_score:',accuracy_score(y_test,y_predict))\n",
        "    \n",
        "    classes = np.unique(y_test)\n",
        "\n",
        "\n",
        "    ## Accuracy, Precision, Recall\n",
        "    accuracy = accuracy_score(y_test, predicted)\n",
        "    #auc = roc_auc_score(y_test, predicted_prob, multi_class=\"ovo\")\n",
        "    print(\"Accuracy:\",  round(accuracy,2))\n",
        "    #print(\"Auc:\", round(auc,2))\n",
        "    print(\"Detail:\")\n",
        "    print(classification_report(y_test, predicted))\n",
        "\n",
        "    ## Plot confusion matrix\n",
        "    cm = confusion_matrix(y_test, predicted)\n",
        "    fig, ax = plt.subplots()\n",
        "    sns.heatmap(cm, annot=True, fmt='d', ax=ax, cmap=plt.cm.Blues, \n",
        "                cbar=False)\n",
        "    ax.set(xlabel=\"Pred\", ylabel=\"True\", xticklabels=classes, \n",
        "           yticklabels=classes, title=\"Confusion matrix\")\n",
        "    plt.yticks(rotation=0)\n",
        "\n",
        "    #fig, ax = plt.subplots(nrows=1, ncols=2,figsize=(15,8))\n",
        "    \n",
        "    plt.show()"
      ],
      "metadata": {
        "id": "EWMlgLXJKGJJ"
      },
      "execution_count": null,
      "outputs": []
    },
    {
      "cell_type": "code",
      "source": [
        "#Calling TF-idf function\n",
        "tfidf_vectorizer(X_train, y_train, X_test, y_test)"
      ],
      "metadata": {
        "colab": {
          "base_uri": "https://localhost:8080/",
          "height": 486
        },
        "id": "-L4dccbGKeMj",
        "outputId": "1074d868-bf1b-4b0a-cab8-ec4362f2a379"
      },
      "execution_count": null,
      "outputs": [
        {
          "output_type": "stream",
          "name": "stdout",
          "text": [
            "Accuracy: 0.92\n",
            "Detail:\n",
            "              precision    recall  f1-score   support\n",
            "\n",
            "           0       0.91      0.27      0.41       967\n",
            "           1       0.92      1.00      0.96      8033\n",
            "\n",
            "    accuracy                           0.92      9000\n",
            "   macro avg       0.91      0.63      0.69      9000\n",
            "weighted avg       0.92      0.92      0.90      9000\n",
            "\n"
          ]
        },
        {
          "output_type": "display_data",
          "data": {
            "text/plain": [
              "<Figure size 432x288 with 1 Axes>"
            ],
            "image/png": "[encoded data removed]"
          },
          "metadata": {
            "needs_background": "light"
          }
        }
      ]
    },
    {
      "cell_type": "code",
      "source": [
        "#further tuning the \n",
        "def tfidf_vectorizer_tuning(X_train, y_train, X_test, y_test):\n",
        "    parameters = {\n",
        "    'max_df': (0.25, 0.5, 0.75),\n",
        "    'ngram_range': [(1, 1), (1, 2), (1, 3),(2,1),(2,2),(2,3)],\n",
        "        'use_idf':[True, False],\n",
        "        'smooth_idf':(True, False),\n",
        "        #'max_features':(None, 5000, 10000, 50000),\n",
        "         'sublinear_tf':(True, False)\n",
        "        \n",
        "        }\n",
        "    \n",
        "    #pipeline = RandomizedSearchCV(TfidfVectorizer(),param_distributions = parameters, random_state = 123)\n",
        "    grid_search_tune = GridSearchCV( TfidfVectorizer(), parameters, cv=2, n_jobs=2, verbose=3,scoring=\"accuracy\")\n",
        "    #grid_search_tune.fit(X_train,Y_train)\n",
        "    \n",
        "    \n",
        "    #tfidf_vectorizer = TfidfVectorizer(use_idf=True,max_df=0.5)\n",
        "    X_train_vectors_tfidf =  grid_search_tune.fit(X_train)\n",
        "    X_train_vectors_tfidf =  grid_search_tune.transform(X_train) \n",
        "    \n",
        "    X_test_vectors_tfidf =  grid_search_tune.transform(X_test)\n",
        "    print(grid_search_tune.best_params_)\n",
        "     \n",
        "    \n",
        "    #FITTING THE CLASSIFICATION MODEL using MultinomialNB(tf-idf)\n",
        "    #mnb_tfidf = MultinomialNB() \n",
        "    #mnb_tfidf.fit(X_train_vectors_tfidf, y_train)  \n",
        "\n",
        "    #Predict y value for test dataset\n",
        "    #predicted =  mnb_tfidf.predict(X_test_vectors_tfidf)\n",
        "    #predicted_prob =  mnb_tfidf.predict_proba(X_test_vectors_tfidf)[:,1]\n",
        "    \n",
        "    \n",
        "    \n",
        "    #FITTING THE CLASSIFICATION MODEL using MultinomialNB(tf-idf)\n",
        "    lr_tfidf = RandomForestClassifier()\n",
        "    \n",
        "    lr_tfidf .fit(X_train_vectors_tfidf, y_train)  \n",
        "\n",
        "    #Predict y value for test dataset\n",
        "    predicted =  lr_tfidf .predict(X_test_vectors_tfidf)\n",
        "    predicted_prob =  lr_tfidf .predict_proba(X_test_vectors_tfidf)[:,1]\n",
        "    #print(classification_report(y_test,y_predict))\n",
        "    #print('Confusion Matrix:',confusion_matrix(y_test, y_predict))\n",
        "\n",
        "    #fpr, tpr, thresholds = roc_curve(y_test, y_prob)\n",
        "    #roc_auc = auc(fpr, tpr)\n",
        "    #print('AUC:', roc_auc)\n",
        "    #print('accuracy_score:',accuracy_score(y_test,y_predict)) \n",
        "    classes = np.unique(y_test)\n",
        "\n",
        "\n",
        "\n",
        "    ## Accuracy, Precision, Recall\n",
        "    accuracy = metrics.accuracy_score(y_test, predicted)\n",
        "    #auc = metrics.roc_auc_score(y_test, predicted_prob,  multi_class=\"ovr\")\n",
        "    print(\"Accuracy:\",  round(accuracy,2))\n",
        "    #print(\"Auc:\", round(auc,2))\n",
        "    print(\"Detail:\")\n",
        "    print(metrics.classification_report(y_test, predicted))\n",
        "\n",
        "    ## Plot confusion matrix\n",
        "    cm = metrics.confusion_matrix(y_test, predicted)\n",
        "    fig, ax = plt.subplots()\n",
        "    sns.heatmap(cm, annot=True, fmt='d', ax=ax, cmap=plt.cm.Blues, \n",
        "                cbar=False)\n",
        "    ax.set(xlabel=\"Pred\", ylabel=\"True\", xticklabels=classes, \n",
        "           yticklabels=classes, title=\"Confusion matrix\")\n",
        "    plt.yticks(rotation=0)\n",
        "\n",
        "\n",
        "    ## Plot roc\n",
        "    #\n",
        "    plt.show()"
      ],
      "metadata": {
        "id": "srrbIgssKhHj"
      },
      "execution_count": null,
      "outputs": []
    },
    {
      "cell_type": "code",
      "source": [
        "tfidf_vectorizer_tuning(X_train, y_train, X_test, y_test)"
      ],
      "metadata": {
        "colab": {
          "base_uri": "https://localhost:8080/",
          "height": 1000
        },
        "id": "E0lyH4NTLCqu",
        "outputId": "1f8c0926-a874-45b5-ffc9-e6398ed73384"
      },
      "execution_count": null,
      "outputs": [
        {
          "output_type": "stream",
          "name": "stdout",
          "text": [
            "Fitting 2 folds for each of 144 candidates, totalling 288 fits\n"
          ]
        },
        {
          "output_type": "stream",
          "name": "stderr",
          "text": [
            "/usr/local/lib/python3.7/dist-packages/sklearn/model_selection/_validation.py:372: FitFailedWarning: \n",
            "48 fits failed out of a total of 288.\n",
            "The score on these train-test partitions for these parameters will be set to nan.\n",
            "If these failures are not expected, you can try to debug them by setting error_score='raise'.\n",
            "\n",
            "Below are more details about the failures:\n",
            "--------------------------------------------------------------------------------\n",
            "48 fits failed with the following error:\n",
            "Traceback (most recent call last):\n",
            "  File \"/usr/local/lib/python3.7/dist-packages/sklearn/model_selection/_validation.py\", line 678, in _fit_and_score\n",
            "    estimator.fit(X_train, **fit_params)\n",
            "  File \"/usr/local/lib/python3.7/dist-packages/sklearn/feature_extraction/text.py\", line 2053, in fit\n",
            "    X = super().fit_transform(raw_documents)\n",
            "  File \"/usr/local/lib/python3.7/dist-packages/sklearn/feature_extraction/text.py\", line 1313, in fit_transform\n",
            "    self._validate_params()\n",
            "  File \"/usr/local/lib/python3.7/dist-packages/sklearn/feature_extraction/text.py\", line 1251, in _validate_params\n",
            "    super()._validate_params()\n",
            "  File \"/usr/local/lib/python3.7/dist-packages/sklearn/feature_extraction/text.py\", line 510, in _validate_params\n",
            "    % str(self.ngram_range)\n",
            "ValueError: Invalid value for ngram_range=(2, 1) lower boundary larger than the upper boundary.\n",
            "\n",
            "  warnings.warn(some_fits_failed_message, FitFailedWarning)\n",
            "/usr/local/lib/python3.7/dist-packages/sklearn/model_selection/_search.py:972: UserWarning: One or more of the test scores are non-finite: [nan nan nan nan nan nan nan nan nan nan nan nan nan nan nan nan nan nan\n",
            " nan nan nan nan nan nan nan nan nan nan nan nan nan nan nan nan nan nan\n",
            " nan nan nan nan nan nan nan nan nan nan nan nan nan nan nan nan nan nan\n",
            " nan nan nan nan nan nan nan nan nan nan nan nan nan nan nan nan nan nan\n",
            " nan nan nan nan nan nan nan nan nan nan nan nan nan nan nan nan nan nan\n",
            " nan nan nan nan nan nan nan nan nan nan nan nan nan nan nan nan nan nan\n",
            " nan nan nan nan nan nan nan nan nan nan nan nan nan nan nan nan nan nan\n",
            " nan nan nan nan nan nan nan nan nan nan nan nan nan nan nan nan nan nan]\n",
            "  category=UserWarning,\n"
          ]
        },
        {
          "output_type": "stream",
          "name": "stdout",
          "text": [
            "{'max_df': 0.25, 'ngram_range': (1, 1), 'smooth_idf': True, 'sublinear_tf': True, 'use_idf': True}\n",
            "Accuracy: 0.91\n",
            "Detail:\n",
            "              precision    recall  f1-score   support\n",
            "\n",
            "           0       0.89      0.22      0.35       967\n",
            "           1       0.91      1.00      0.95      8033\n",
            "\n",
            "    accuracy                           0.91      9000\n",
            "   macro avg       0.90      0.61      0.65      9000\n",
            "weighted avg       0.91      0.91      0.89      9000\n",
            "\n"
          ]
        },
        {
          "output_type": "display_data",
          "data": {
            "text/plain": [
              "<Figure size 432x288 with 1 Axes>"
            ],
            "image/png": "[encoded data removed]"
          },
          "metadata": {
            "needs_background": "light"
          }
        }
      ]
    },
    {
      "cell_type": "markdown",
      "source": [
        "# recommendation system "
      ],
      "metadata": {
        "id": "CbOio9_NQ2xs"
      }
    },
    {
      "cell_type": "markdown",
      "source": [
        "creating pivottable with usernames,brand,reviews_rating"
      ],
      "metadata": {
        "id": "N8w3GB3XQ8mz"
      }
    },
    {
      "cell_type": "code",
      "source": [
        "moviemat = df.pivot_table(index='reviews_username',columns='brand',values='reviews_rating')\n",
        "moviemat.head()"
      ],
      "metadata": {
        "colab": {
          "base_uri": "https://localhost:8080/",
          "height": 366
        },
        "id": "RZmWmtDzBFYY",
        "outputId": "4efc102d-a40a-4e34-d0ce-7224f9129f5f"
      },
      "execution_count": null,
      "outputs": [
        {
          "output_type": "execute_result",
          "data": {
            "text/plain": [
              "brand             4C Foods  AMBI  ANCHOR BAY  Africa's Best  Alberto VO5  \\\n",
              "reviews_username                                                           \n",
              "00dog3                 NaN   NaN         NaN            NaN          NaN   \n",
              "00sab00                NaN   NaN         NaN            NaN          NaN   \n",
              "01impala               NaN   NaN         NaN            NaN          NaN   \n",
              "02dakota               NaN   NaN         NaN            NaN          NaN   \n",
              "02deuce                NaN   NaN         NaN            NaN          NaN   \n",
              "\n",
              "brand             All-Bran  Annie's  Arrid  Aussie  Australian Gold  ...  \\\n",
              "reviews_username                                                     ...   \n",
              "00dog3                 NaN      NaN    NaN     NaN              NaN  ...   \n",
              "00sab00                NaN      NaN    NaN     NaN              NaN  ...   \n",
              "01impala               NaN      NaN    NaN     NaN              NaN  ...   \n",
              "02dakota               NaN      NaN    NaN     NaN              NaN  ...   \n",
              "02deuce                NaN      NaN    NaN     NaN              NaN  ...   \n",
              "\n",
              "brand             Warner Music Group  Way Basics  Weather Tech  Weleda  \\\n",
              "reviews_username                                                         \n",
              "00dog3                           NaN         NaN           NaN     NaN   \n",
              "00sab00                          NaN         NaN           NaN     NaN   \n",
              "01impala                         NaN         NaN           NaN     NaN   \n",
              "02dakota                         NaN         NaN           NaN     NaN   \n",
              "02deuce                          NaN         NaN           NaN     NaN   \n",
              "\n",
              "brand             Wilton  Windex  Yes to Carrots  Yes to Grapefruit  \\\n",
              "reviews_username                                                      \n",
              "00dog3               NaN     NaN             NaN                NaN   \n",
              "00sab00              NaN     NaN             NaN                NaN   \n",
              "01impala             NaN     NaN             NaN                NaN   \n",
              "02dakota             NaN     NaN             NaN                NaN   \n",
              "02deuce              NaN     NaN             NaN                NaN   \n",
              "\n",
              "brand             Yosemite Home Decor  iStarUSA  \n",
              "reviews_username                                 \n",
              "00dog3                            NaN       NaN  \n",
              "00sab00                           NaN       NaN  \n",
              "01impala                          NaN       NaN  \n",
              "02dakota                          NaN       NaN  \n",
              "02deuce                           NaN       NaN  \n",
              "\n",
              "[5 rows x 214 columns]"
            ],
            "text/html": [
              "\n",
              "  <div id=\"df-5f2cb993-6dd9-4f36-a670-7fbe8cef7f5a\">\n",
              "    <div class=\"colab-df-container\">\n",
              "      <div>\n",
              "<style scoped>\n",
              "    .dataframe tbody tr th:only-of-type {\n",
              "        vertical-align: middle;\n",
              "    }\n",
              "\n",
              "    .dataframe tbody tr th {\n",
              "        vertical-align: top;\n",
              "    }\n",
              "\n",
              "    .dataframe thead th {\n",
              "        text-align: right;\n",
              "    }\n",
              "</style>\n",
              "<table border=\"1\" class=\"dataframe\">\n",
              "  <thead>\n",
              "    <tr style=\"text-align: right;\">\n",
              "      <th>brand</th>\n",
              "      <th>4C Foods</th>\n",
              "      <th>AMBI</th>\n",
              "      <th>ANCHOR BAY</th>\n",
              "      <th>Africa's Best</th>\n",
              "      <th>Alberto VO5</th>\n",
              "      <th>All-Bran</th>\n",
              "      <th>Annie's</th>\n",
              "      <th>Arrid</th>\n",
              "      <th>Aussie</th>\n",
              "      <th>Australian Gold</th>\n",
              "      <th>...</th>\n",
              "      <th>Warner Music Group</th>\n",
              "      <th>Way Basics</th>\n",
              "      <th>Weather Tech</th>\n",
              "      <th>Weleda</th>\n",
              "      <th>Wilton</th>\n",
              "      <th>Windex</th>\n",
              "      <th>Yes to Carrots</th>\n",
              "      <th>Yes to Grapefruit</th>\n",
              "      <th>Yosemite Home Decor</th>\n",
              "      <th>iStarUSA</th>\n",
              "    </tr>\n",
              "    <tr>\n",
              "      <th>reviews_username</th>\n",
              "      <th></th>\n",
              "      <th></th>\n",
              "      <th></th>\n",
              "      <th></th>\n",
              "      <th></th>\n",
              "      <th></th>\n",
              "      <th></th>\n",
              "      <th></th>\n",
              "      <th></th>\n",
              "      <th></th>\n",
              "      <th></th>\n",
              "      <th></th>\n",
              "      <th></th>\n",
              "      <th></th>\n",
              "      <th></th>\n",
              "      <th></th>\n",
              "      <th></th>\n",
              "      <th></th>\n",
              "      <th></th>\n",
              "      <th></th>\n",
              "      <th></th>\n",
              "    </tr>\n",
              "  </thead>\n",
              "  <tbody>\n",
              "    <tr>\n",
              "      <th>00dog3</th>\n",
              "      <td>NaN</td>\n",
              "      <td>NaN</td>\n",
              "      <td>NaN</td>\n",
              "      <td>NaN</td>\n",
              "      <td>NaN</td>\n",
              "      <td>NaN</td>\n",
              "      <td>NaN</td>\n",
              "      <td>NaN</td>\n",
              "      <td>NaN</td>\n",
              "      <td>NaN</td>\n",
              "      <td>...</td>\n",
              "      <td>NaN</td>\n",
              "      <td>NaN</td>\n",
              "      <td>NaN</td>\n",
              "      <td>NaN</td>\n",
              "      <td>NaN</td>\n",
              "      <td>NaN</td>\n",
              "      <td>NaN</td>\n",
              "      <td>NaN</td>\n",
              "      <td>NaN</td>\n",
              "      <td>NaN</td>\n",
              "    </tr>\n",
              "    <tr>\n",
              "      <th>00sab00</th>\n",
              "      <td>NaN</td>\n",
              "      <td>NaN</td>\n",
              "      <td>NaN</td>\n",
              "      <td>NaN</td>\n",
              "      <td>NaN</td>\n",
              "      <td>NaN</td>\n",
              "      <td>NaN</td>\n",
              "      <td>NaN</td>\n",
              "      <td>NaN</td>\n",
              "      <td>NaN</td>\n",
              "      <td>...</td>\n",
              "      <td>NaN</td>\n",
              "      <td>NaN</td>\n",
              "      <td>NaN</td>\n",
              "      <td>NaN</td>\n",
              "      <td>NaN</td>\n",
              "      <td>NaN</td>\n",
              "      <td>NaN</td>\n",
              "      <td>NaN</td>\n",
              "      <td>NaN</td>\n",
              "      <td>NaN</td>\n",
              "    </tr>\n",
              "    <tr>\n",
              "      <th>01impala</th>\n",
              "      <td>NaN</td>\n",
              "      <td>NaN</td>\n",
              "      <td>NaN</td>\n",
              "      <td>NaN</td>\n",
              "      <td>NaN</td>\n",
              "      <td>NaN</td>\n",
              "      <td>NaN</td>\n",
              "      <td>NaN</td>\n",
              "      <td>NaN</td>\n",
              "      <td>NaN</td>\n",
              "      <td>...</td>\n",
              "      <td>NaN</td>\n",
              "      <td>NaN</td>\n",
              "      <td>NaN</td>\n",
              "      <td>NaN</td>\n",
              "      <td>NaN</td>\n",
              "      <td>NaN</td>\n",
              "      <td>NaN</td>\n",
              "      <td>NaN</td>\n",
              "      <td>NaN</td>\n",
              "      <td>NaN</td>\n",
              "    </tr>\n",
              "    <tr>\n",
              "      <th>02dakota</th>\n",
              "      <td>NaN</td>\n",
              "      <td>NaN</td>\n",
              "      <td>NaN</td>\n",
              "      <td>NaN</td>\n",
              "      <td>NaN</td>\n",
              "      <td>NaN</td>\n",
              "      <td>NaN</td>\n",
              "      <td>NaN</td>\n",
              "      <td>NaN</td>\n",
              "      <td>NaN</td>\n",
              "      <td>...</td>\n",
              "      <td>NaN</td>\n",
              "      <td>NaN</td>\n",
              "      <td>NaN</td>\n",
              "      <td>NaN</td>\n",
              "      <td>NaN</td>\n",
              "      <td>NaN</td>\n",
              "      <td>NaN</td>\n",
              "      <td>NaN</td>\n",
              "      <td>NaN</td>\n",
              "      <td>NaN</td>\n",
              "    </tr>\n",
              "    <tr>\n",
              "      <th>02deuce</th>\n",
              "      <td>NaN</td>\n",
              "      <td>NaN</td>\n",
              "      <td>NaN</td>\n",
              "      <td>NaN</td>\n",
              "      <td>NaN</td>\n",
              "      <td>NaN</td>\n",
              "      <td>NaN</td>\n",
              "      <td>NaN</td>\n",
              "      <td>NaN</td>\n",
              "      <td>NaN</td>\n",
              "      <td>...</td>\n",
              "      <td>NaN</td>\n",
              "      <td>NaN</td>\n",
              "      <td>NaN</td>\n",
              "      <td>NaN</td>\n",
              "      <td>NaN</td>\n",
              "      <td>NaN</td>\n",
              "      <td>NaN</td>\n",
              "      <td>NaN</td>\n",
              "      <td>NaN</td>\n",
              "      <td>NaN</td>\n",
              "    </tr>\n",
              "  </tbody>\n",
              "</table>\n",
              "<p>5 rows × 214 columns</p>\n",
              "</div>\n",
              "      <button class=\"colab-df-convert\" onclick=\"convertToInteractive('df-5f2cb993-6dd9-4f36-a670-7fbe8cef7f5a')\"\n",
              "              title=\"Convert this dataframe to an interactive table.\"\n",
              "              style=\"display:none;\">\n",
              "        \n",
              "  <svg xmlns=\"http://www.w3.org/2000/svg\" height=\"24px\"viewBox=\"0 0 24 24\"\n",
              "       width=\"24px\">\n",
              "    <path d=\"M0 0h24v24H0V0z\" fill=\"none\"/>\n",
              "    <path d=\"M18.56 5.44l.94 2.06.94-2.06 2.06-.94-2.06-.94-.94-2.06-.94 2.06-2.06.94zm-11 1L8.5 8.5l.94-2.06 2.06-.94-2.06-.94L8.5 2.5l-.94 2.06-2.06.94zm10 10l.94 2.06.94-2.06 2.06-.94-2.06-.94-.94-2.06-.94 2.06-2.06.94z\"/><path d=\"M17.41 7.96l-1.37-1.37c-.4-.4-.92-.59-1.43-.59-.52 0-1.04.2-1.43.59L10.3 9.45l-7.72 7.72c-.78.78-.78 2.05 0 2.83L4 21.41c.39.39.9.59 1.41.59.51 0 1.02-.2 1.41-.59l7.78-7.78 2.81-2.81c.8-.78.8-2.07 0-2.86zM5.41 20L4 18.59l7.72-7.72 1.47 1.35L5.41 20z\"/>\n",
              "  </svg>\n",
              "      </button>\n",
              "      \n",
              "  <style>\n",
              "    .colab-df-container {\n",
              "      display:flex;\n",
              "      flex-wrap:wrap;\n",
              "      gap: 12px;\n",
              "    }\n",
              "\n",
              "    .colab-df-convert {\n",
              "      background-color: #E8F0FE;\n",
              "      border: none;\n",
              "      border-radius: 50%;\n",
              "      cursor: pointer;\n",
              "      display: none;\n",
              "      fill: #1967D2;\n",
              "      height: 32px;\n",
              "      padding: 0 0 0 0;\n",
              "      width: 32px;\n",
              "    }\n",
              "\n",
              "    .colab-df-convert:hover {\n",
              "      background-color: #E2EBFA;\n",
              "      box-shadow: 0px 1px 2px rgba(60, 64, 67, 0.3), 0px 1px 3px 1px rgba(60, 64, 67, 0.15);\n",
              "      fill: #174EA6;\n",
              "    }\n",
              "\n",
              "    [theme=dark] .colab-df-convert {\n",
              "      background-color: #3B4455;\n",
              "      fill: #D2E3FC;\n",
              "    }\n",
              "\n",
              "    [theme=dark] .colab-df-convert:hover {\n",
              "      background-color: #434B5C;\n",
              "      box-shadow: 0px 1px 3px 1px rgba(0, 0, 0, 0.15);\n",
              "      filter: drop-shadow(0px 1px 2px rgba(0, 0, 0, 0.3));\n",
              "      fill: #FFFFFF;\n",
              "    }\n",
              "  </style>\n",
              "\n",
              "      <script>\n",
              "        const buttonEl =\n",
              "          document.querySelector('#df-5f2cb993-6dd9-4f36-a670-7fbe8cef7f5a button.colab-df-convert');\n",
              "        buttonEl.style.display =\n",
              "          google.colab.kernel.accessAllowed ? 'block' : 'none';\n",
              "\n",
              "        async function convertToInteractive(key) {\n",
              "          const element = document.querySelector('#df-5f2cb993-6dd9-4f36-a670-7fbe8cef7f5a');\n",
              "          const dataTable =\n",
              "            await google.colab.kernel.invokeFunction('convertToInteractive',\n",
              "                                                     [key], {});\n",
              "          if (!dataTable) return;\n",
              "\n",
              "          const docLinkHtml = 'Like what you see? Visit the ' +\n",
              "            '<a target=\"_blank\" href=https://colab.research.google.com/notebooks/data_table.ipynb>data table notebook</a>'\n",
              "            + ' to learn more about interactive tables.';\n",
              "          element.innerHTML = '';\n",
              "          dataTable['output_type'] = 'display_data';\n",
              "          await google.colab.output.renderOutput(dataTable, element);\n",
              "          const docLink = document.createElement('div');\n",
              "          docLink.innerHTML = docLinkHtml;\n",
              "          element.appendChild(docLink);\n",
              "        }\n",
              "      </script>\n",
              "    </div>\n",
              "  </div>\n",
              "  "
            ]
          },
          "metadata": {},
          "execution_count": 3
        }
      ]
    },
    {
      "cell_type": "markdown",
      "source": [
        "for example user selects  brand disney"
      ],
      "metadata": {
        "id": "D970FsPeRUNP"
      }
    },
    {
      "cell_type": "code",
      "source": [
        "user_selection = moviemat['Disney']\n",
        "user_selection"
      ],
      "metadata": {
        "colab": {
          "base_uri": "https://localhost:8080/"
        },
        "id": "YXwwNkXQBhK0",
        "outputId": "5f868c1b-a126-46a2-f9c4-ee40f00eab80"
      },
      "execution_count": null,
      "outputs": [
        {
          "output_type": "execute_result",
          "data": {
            "text/plain": [
              "reviews_username\n",
              "00dog3     NaN\n",
              "00sab00    NaN\n",
              "01impala   NaN\n",
              "02dakota   NaN\n",
              "02deuce    NaN\n",
              "            ..\n",
              "zxcsdfd    NaN\n",
              "zxjki      NaN\n",
              "zyiah4     NaN\n",
              "zzdiane    NaN\n",
              "zzz1127    NaN\n",
              "Name: Disney, Length: 24914, dtype: float64"
            ]
          },
          "metadata": {},
          "execution_count": 4
        }
      ]
    },
    {
      "cell_type": "markdown",
      "source": [
        "calculating coorelation with disney and other brands with user"
      ],
      "metadata": {
        "id": "JNEu-LUtRgOM"
      }
    },
    {
      "cell_type": "code",
      "source": [
        "similar_to_user_selection = moviemat.corrwith(user_selection)"
      ],
      "metadata": {
        "colab": {
          "base_uri": "https://localhost:8080/"
        },
        "id": "0flCdUo3Bso1",
        "outputId": "055dc55a-c41e-41df-c85e-a8b9b163d696"
      },
      "execution_count": null,
      "outputs": [
        {
          "output_type": "stream",
          "name": "stderr",
          "text": [
            "/usr/local/lib/python3.7/dist-packages/numpy/lib/function_base.py:2683: RuntimeWarning: Degrees of freedom <= 0 for slice\n",
            "  c = cov(x, y, rowvar, dtype=dtype)\n",
            "/usr/local/lib/python3.7/dist-packages/numpy/lib/function_base.py:2542: RuntimeWarning: divide by zero encountered in true_divide\n",
            "  c *= np.true_divide(1, fact)\n"
          ]
        }
      ]
    },
    {
      "cell_type": "code",
      "source": [
        "similar_to_user_selection"
      ],
      "metadata": {
        "colab": {
          "base_uri": "https://localhost:8080/"
        },
        "id": "cQDwMTwMyx5j",
        "outputId": "357109a5-98a0-47b5-8728-bb14a594554c"
      },
      "execution_count": null,
      "outputs": [
        {
          "output_type": "execute_result",
          "data": {
            "text/plain": [
              "brand\n",
              "4C Foods                    NaN\n",
              "AMBI                        NaN\n",
              "ANCHOR BAY                  NaN\n",
              "Africa's Best               NaN\n",
              "Alberto VO5                 NaN\n",
              "                         ...   \n",
              "Windex                -0.328798\n",
              "Yes to Carrots              NaN\n",
              "Yes to Grapefruit           NaN\n",
              "Yosemite Home Decor         NaN\n",
              "iStarUSA                    NaN\n",
              "Length: 214, dtype: float64"
            ]
          },
          "metadata": {},
          "execution_count": 6
        }
      ]
    },
    {
      "cell_type": "code",
      "source": [
        "corr_user = pd.DataFrame(similar_to_user_selection,columns=['Correlation'])\n",
        "corr_user.dropna(inplace=True)\n",
        "corr_user.head()\n",
        "\n"
      ],
      "metadata": {
        "colab": {
          "base_uri": "https://localhost:8080/",
          "height": 237
        },
        "id": "BeyOGj_ICebP",
        "outputId": "b765a0df-bcbe-412a-e6a2-ebaa96508b93"
      },
      "execution_count": null,
      "outputs": [
        {
          "output_type": "execute_result",
          "data": {
            "text/plain": [
              "                            Correlation\n",
              "brand                                  \n",
              "Chester's                     -0.112680\n",
              "Chips Ahoy                     0.533002\n",
              "Clear Scalp & Hair Therapy    -0.333333\n",
              "Clorox                         0.636285\n",
              "Coty                          -0.240192"
            ],
            "text/html": [
              "\n",
              "  <div id=\"df-919d4f52-4f38-4ec0-bb3c-93b9cf5ad6a2\">\n",
              "    <div class=\"colab-df-container\">\n",
              "      <div>\n",
              "<style scoped>\n",
              "    .dataframe tbody tr th:only-of-type {\n",
              "        vertical-align: middle;\n",
              "    }\n",
              "\n",
              "    .dataframe tbody tr th {\n",
              "        vertical-align: top;\n",
              "    }\n",
              "\n",
              "    .dataframe thead th {\n",
              "        text-align: right;\n",
              "    }\n",
              "</style>\n",
              "<table border=\"1\" class=\"dataframe\">\n",
              "  <thead>\n",
              "    <tr style=\"text-align: right;\">\n",
              "      <th></th>\n",
              "      <th>Correlation</th>\n",
              "    </tr>\n",
              "    <tr>\n",
              "      <th>brand</th>\n",
              "      <th></th>\n",
              "    </tr>\n",
              "  </thead>\n",
              "  <tbody>\n",
              "    <tr>\n",
              "      <th>Chester's</th>\n",
              "      <td>-0.112680</td>\n",
              "    </tr>\n",
              "    <tr>\n",
              "      <th>Chips Ahoy</th>\n",
              "      <td>0.533002</td>\n",
              "    </tr>\n",
              "    <tr>\n",
              "      <th>Clear Scalp &amp; Hair Therapy</th>\n",
              "      <td>-0.333333</td>\n",
              "    </tr>\n",
              "    <tr>\n",
              "      <th>Clorox</th>\n",
              "      <td>0.636285</td>\n",
              "    </tr>\n",
              "    <tr>\n",
              "      <th>Coty</th>\n",
              "      <td>-0.240192</td>\n",
              "    </tr>\n",
              "  </tbody>\n",
              "</table>\n",
              "</div>\n",
              "      <button class=\"colab-df-convert\" onclick=\"convertToInteractive('df-919d4f52-4f38-4ec0-bb3c-93b9cf5ad6a2')\"\n",
              "              title=\"Convert this dataframe to an interactive table.\"\n",
              "              style=\"display:none;\">\n",
              "        \n",
              "  <svg xmlns=\"http://www.w3.org/2000/svg\" height=\"24px\"viewBox=\"0 0 24 24\"\n",
              "       width=\"24px\">\n",
              "    <path d=\"M0 0h24v24H0V0z\" fill=\"none\"/>\n",
              "    <path d=\"M18.56 5.44l.94 2.06.94-2.06 2.06-.94-2.06-.94-.94-2.06-.94 2.06-2.06.94zm-11 1L8.5 8.5l.94-2.06 2.06-.94-2.06-.94L8.5 2.5l-.94 2.06-2.06.94zm10 10l.94 2.06.94-2.06 2.06-.94-2.06-.94-.94-2.06-.94 2.06-2.06.94z\"/><path d=\"M17.41 7.96l-1.37-1.37c-.4-.4-.92-.59-1.43-.59-.52 0-1.04.2-1.43.59L10.3 9.45l-7.72 7.72c-.78.78-.78 2.05 0 2.83L4 21.41c.39.39.9.59 1.41.59.51 0 1.02-.2 1.41-.59l7.78-7.78 2.81-2.81c.8-.78.8-2.07 0-2.86zM5.41 20L4 18.59l7.72-7.72 1.47 1.35L5.41 20z\"/>\n",
              "  </svg>\n",
              "      </button>\n",
              "      \n",
              "  <style>\n",
              "    .colab-df-container {\n",
              "      display:flex;\n",
              "      flex-wrap:wrap;\n",
              "      gap: 12px;\n",
              "    }\n",
              "\n",
              "    .colab-df-convert {\n",
              "      background-color: #E8F0FE;\n",
              "      border: none;\n",
              "      border-radius: 50%;\n",
              "      cursor: pointer;\n",
              "      display: none;\n",
              "      fill: #1967D2;\n",
              "      height: 32px;\n",
              "      padding: 0 0 0 0;\n",
              "      width: 32px;\n",
              "    }\n",
              "\n",
              "    .colab-df-convert:hover {\n",
              "      background-color: #E2EBFA;\n",
              "      box-shadow: 0px 1px 2px rgba(60, 64, 67, 0.3), 0px 1px 3px 1px rgba(60, 64, 67, 0.15);\n",
              "      fill: #174EA6;\n",
              "    }\n",
              "\n",
              "    [theme=dark] .colab-df-convert {\n",
              "      background-color: #3B4455;\n",
              "      fill: #D2E3FC;\n",
              "    }\n",
              "\n",
              "    [theme=dark] .colab-df-convert:hover {\n",
              "      background-color: #434B5C;\n",
              "      box-shadow: 0px 1px 3px 1px rgba(0, 0, 0, 0.15);\n",
              "      filter: drop-shadow(0px 1px 2px rgba(0, 0, 0, 0.3));\n",
              "      fill: #FFFFFF;\n",
              "    }\n",
              "  </style>\n",
              "\n",
              "      <script>\n",
              "        const buttonEl =\n",
              "          document.querySelector('#df-919d4f52-4f38-4ec0-bb3c-93b9cf5ad6a2 button.colab-df-convert');\n",
              "        buttonEl.style.display =\n",
              "          google.colab.kernel.accessAllowed ? 'block' : 'none';\n",
              "\n",
              "        async function convertToInteractive(key) {\n",
              "          const element = document.querySelector('#df-919d4f52-4f38-4ec0-bb3c-93b9cf5ad6a2');\n",
              "          const dataTable =\n",
              "            await google.colab.kernel.invokeFunction('convertToInteractive',\n",
              "                                                     [key], {});\n",
              "          if (!dataTable) return;\n",
              "\n",
              "          const docLinkHtml = 'Like what you see? Visit the ' +\n",
              "            '<a target=\"_blank\" href=https://colab.research.google.com/notebooks/data_table.ipynb>data table notebook</a>'\n",
              "            + ' to learn more about interactive tables.';\n",
              "          element.innerHTML = '';\n",
              "          dataTable['output_type'] = 'display_data';\n",
              "          await google.colab.output.renderOutput(dataTable, element);\n",
              "          const docLink = document.createElement('div');\n",
              "          docLink.innerHTML = docLinkHtml;\n",
              "          element.appendChild(docLink);\n",
              "        }\n",
              "      </script>\n",
              "    </div>\n",
              "  </div>\n",
              "  "
            ]
          },
          "metadata": {},
          "execution_count": 7
        }
      ]
    },
    {
      "cell_type": "markdown",
      "source": [
        "printing top brands with cooleated to uset selected brand"
      ],
      "metadata": {
        "id": "qV5G7PCZSAy2"
      }
    },
    {
      "cell_type": "code",
      "source": [
        "\n",
        "corr_user.sort_values('Correlation',ascending=False).head(20)"
      ],
      "metadata": {
        "colab": {
          "base_uri": "https://localhost:8080/",
          "height": 708
        },
        "id": "nn7zIaZoCoh5",
        "outputId": "a6ddedec-ceba-4157-8345-4082285d3a2e"
      },
      "execution_count": null,
      "outputs": [
        {
          "output_type": "execute_result",
          "data": {
            "text/plain": [
              "                      Correlation\n",
              "brand                            \n",
              "Disney                   1.000000\n",
              "Clorox                   0.636285\n",
              "Chips Ahoy               0.533002\n",
              "Pendaflex                0.487950\n",
              "Hormel                   0.436436\n",
              "Nexxus                   0.263718\n",
              "Warner Home Video        0.245371\n",
              "Universal Home Video     0.107182\n",
              "Warner Music Group       0.008989\n",
              "Just For Men             0.000000\n",
              "Chester's               -0.112680\n",
              "Sony Pictures           -0.128587\n",
              "Tostitos                -0.142393\n",
              "FOX                     -0.146179\n",
              "Summit Entertainment    -0.147736\n",
              "Hoover                  -0.200000\n",
              "Lionsgate               -0.200000\n",
              "Warner Bros.            -0.222871\n",
              "Pleasant Hearth         -0.237023\n",
              "Coty                    -0.240192"
            ],
            "text/html": [
              "\n",
              "  <div id=\"df-07150271-2df4-4045-8a55-c9d557809110\">\n",
              "    <div class=\"colab-df-container\">\n",
              "      <div>\n",
              "<style scoped>\n",
              "    .dataframe tbody tr th:only-of-type {\n",
              "        vertical-align: middle;\n",
              "    }\n",
              "\n",
              "    .dataframe tbody tr th {\n",
              "        vertical-align: top;\n",
              "    }\n",
              "\n",
              "    .dataframe thead th {\n",
              "        text-align: right;\n",
              "    }\n",
              "</style>\n",
              "<table border=\"1\" class=\"dataframe\">\n",
              "  <thead>\n",
              "    <tr style=\"text-align: right;\">\n",
              "      <th></th>\n",
              "      <th>Correlation</th>\n",
              "    </tr>\n",
              "    <tr>\n",
              "      <th>brand</th>\n",
              "      <th></th>\n",
              "    </tr>\n",
              "  </thead>\n",
              "  <tbody>\n",
              "    <tr>\n",
              "      <th>Disney</th>\n",
              "      <td>1.000000</td>\n",
              "    </tr>\n",
              "    <tr>\n",
              "      <th>Clorox</th>\n",
              "      <td>0.636285</td>\n",
              "    </tr>\n",
              "    <tr>\n",
              "      <th>Chips Ahoy</th>\n",
              "      <td>0.533002</td>\n",
              "    </tr>\n",
              "    <tr>\n",
              "      <th>Pendaflex</th>\n",
              "      <td>0.487950</td>\n",
              "    </tr>\n",
              "    <tr>\n",
              "      <th>Hormel</th>\n",
              "      <td>0.436436</td>\n",
              "    </tr>\n",
              "    <tr>\n",
              "      <th>Nexxus</th>\n",
              "      <td>0.263718</td>\n",
              "    </tr>\n",
              "    <tr>\n",
              "      <th>Warner Home Video</th>\n",
              "      <td>0.245371</td>\n",
              "    </tr>\n",
              "    <tr>\n",
              "      <th>Universal Home Video</th>\n",
              "      <td>0.107182</td>\n",
              "    </tr>\n",
              "    <tr>\n",
              "      <th>Warner Music Group</th>\n",
              "      <td>0.008989</td>\n",
              "    </tr>\n",
              "    <tr>\n",
              "      <th>Just For Men</th>\n",
              "      <td>0.000000</td>\n",
              "    </tr>\n",
              "    <tr>\n",
              "      <th>Chester's</th>\n",
              "      <td>-0.112680</td>\n",
              "    </tr>\n",
              "    <tr>\n",
              "      <th>Sony Pictures</th>\n",
              "      <td>-0.128587</td>\n",
              "    </tr>\n",
              "    <tr>\n",
              "      <th>Tostitos</th>\n",
              "      <td>-0.142393</td>\n",
              "    </tr>\n",
              "    <tr>\n",
              "      <th>FOX</th>\n",
              "      <td>-0.146179</td>\n",
              "    </tr>\n",
              "    <tr>\n",
              "      <th>Summit Entertainment</th>\n",
              "      <td>-0.147736</td>\n",
              "    </tr>\n",
              "    <tr>\n",
              "      <th>Hoover</th>\n",
              "      <td>-0.200000</td>\n",
              "    </tr>\n",
              "    <tr>\n",
              "      <th>Lionsgate</th>\n",
              "      <td>-0.200000</td>\n",
              "    </tr>\n",
              "    <tr>\n",
              "      <th>Warner Bros.</th>\n",
              "      <td>-0.222871</td>\n",
              "    </tr>\n",
              "    <tr>\n",
              "      <th>Pleasant Hearth</th>\n",
              "      <td>-0.237023</td>\n",
              "    </tr>\n",
              "    <tr>\n",
              "      <th>Coty</th>\n",
              "      <td>-0.240192</td>\n",
              "    </tr>\n",
              "  </tbody>\n",
              "</table>\n",
              "</div>\n",
              "      <button class=\"colab-df-convert\" onclick=\"convertToInteractive('df-07150271-2df4-4045-8a55-c9d557809110')\"\n",
              "              title=\"Convert this dataframe to an interactive table.\"\n",
              "              style=\"display:none;\">\n",
              "        \n",
              "  <svg xmlns=\"http://www.w3.org/2000/svg\" height=\"24px\"viewBox=\"0 0 24 24\"\n",
              "       width=\"24px\">\n",
              "    <path d=\"M0 0h24v24H0V0z\" fill=\"none\"/>\n",
              "    <path d=\"M18.56 5.44l.94 2.06.94-2.06 2.06-.94-2.06-.94-.94-2.06-.94 2.06-2.06.94zm-11 1L8.5 8.5l.94-2.06 2.06-.94-2.06-.94L8.5 2.5l-.94 2.06-2.06.94zm10 10l.94 2.06.94-2.06 2.06-.94-2.06-.94-.94-2.06-.94 2.06-2.06.94z\"/><path d=\"M17.41 7.96l-1.37-1.37c-.4-.4-.92-.59-1.43-.59-.52 0-1.04.2-1.43.59L10.3 9.45l-7.72 7.72c-.78.78-.78 2.05 0 2.83L4 21.41c.39.39.9.59 1.41.59.51 0 1.02-.2 1.41-.59l7.78-7.78 2.81-2.81c.8-.78.8-2.07 0-2.86zM5.41 20L4 18.59l7.72-7.72 1.47 1.35L5.41 20z\"/>\n",
              "  </svg>\n",
              "      </button>\n",
              "      \n",
              "  <style>\n",
              "    .colab-df-container {\n",
              "      display:flex;\n",
              "      flex-wrap:wrap;\n",
              "      gap: 12px;\n",
              "    }\n",
              "\n",
              "    .colab-df-convert {\n",
              "      background-color: #E8F0FE;\n",
              "      border: none;\n",
              "      border-radius: 50%;\n",
              "      cursor: pointer;\n",
              "      display: none;\n",
              "      fill: #1967D2;\n",
              "      height: 32px;\n",
              "      padding: 0 0 0 0;\n",
              "      width: 32px;\n",
              "    }\n",
              "\n",
              "    .colab-df-convert:hover {\n",
              "      background-color: #E2EBFA;\n",
              "      box-shadow: 0px 1px 2px rgba(60, 64, 67, 0.3), 0px 1px 3px 1px rgba(60, 64, 67, 0.15);\n",
              "      fill: #174EA6;\n",
              "    }\n",
              "\n",
              "    [theme=dark] .colab-df-convert {\n",
              "      background-color: #3B4455;\n",
              "      fill: #D2E3FC;\n",
              "    }\n",
              "\n",
              "    [theme=dark] .colab-df-convert:hover {\n",
              "      background-color: #434B5C;\n",
              "      box-shadow: 0px 1px 3px 1px rgba(0, 0, 0, 0.15);\n",
              "      filter: drop-shadow(0px 1px 2px rgba(0, 0, 0, 0.3));\n",
              "      fill: #FFFFFF;\n",
              "    }\n",
              "  </style>\n",
              "\n",
              "      <script>\n",
              "        const buttonEl =\n",
              "          document.querySelector('#df-07150271-2df4-4045-8a55-c9d557809110 button.colab-df-convert');\n",
              "        buttonEl.style.display =\n",
              "          google.colab.kernel.accessAllowed ? 'block' : 'none';\n",
              "\n",
              "        async function convertToInteractive(key) {\n",
              "          const element = document.querySelector('#df-07150271-2df4-4045-8a55-c9d557809110');\n",
              "          const dataTable =\n",
              "            await google.colab.kernel.invokeFunction('convertToInteractive',\n",
              "                                                     [key], {});\n",
              "          if (!dataTable) return;\n",
              "\n",
              "          const docLinkHtml = 'Like what you see? Visit the ' +\n",
              "            '<a target=\"_blank\" href=https://colab.research.google.com/notebooks/data_table.ipynb>data table notebook</a>'\n",
              "            + ' to learn more about interactive tables.';\n",
              "          element.innerHTML = '';\n",
              "          dataTable['output_type'] = 'display_data';\n",
              "          await google.colab.output.renderOutput(dataTable, element);\n",
              "          const docLink = document.createElement('div');\n",
              "          docLink.innerHTML = docLinkHtml;\n",
              "          element.appendChild(docLink);\n",
              "        }\n",
              "      </script>\n",
              "    </div>\n",
              "  </div>\n",
              "  "
            ]
          },
          "metadata": {},
          "execution_count": 8
        }
      ]
    },
    {
      "cell_type": "code",
      "source": [],
      "metadata": {
        "id": "QPAkWpG4R6_b"
      },
      "execution_count": null,
      "outputs": []
    }
  ]
}